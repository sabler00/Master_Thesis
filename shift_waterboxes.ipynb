{
 "cells": [
  {
   "cell_type": "markdown",
   "metadata": {},
   "source": [
    "step 1: compute highest and lowest z value. "
   ]
  },
  {
   "cell_type": "code",
   "execution_count": 17,
   "metadata": {},
   "outputs": [
    {
     "name": "stdout",
     "output_type": "stream",
     "text": [
      "The highest z value in the file is: -17.46323506847155\n"
     ]
    }
   ],
   "source": [
    "import numpy as np\n",
    "\n",
    "def extract_highest_z(filename):\n",
    "\n",
    "    z_values = []\n",
    "\n",
    "    with open(filename, 'r') as f:\n",
    "        next(f)\n",
    "        next(f)\n",
    "        for line in f:\n",
    "            try:\n",
    "                parts = line.split()\n",
    "                z = float(parts[3])\n",
    "                z_values.append(z)\n",
    "            except (IndexError, ValueError):\n",
    "                continue\n",
    "\n",
    "\n",
    "    # Find the highest z value\n",
    "    #highest_z = np.max(z_values)\n",
    "    # Find the lowest z value\n",
    "    lowest_z = np.min(z_values)\n",
    "\n",
    "    return lowest_z\n",
    "# Example usage:\n",
    "filename = \"output_file.xyz\"\n",
    "lowest_z= extract_highest_z(filename)\n",
    "print(\"The highest z value in the file is:\", lowest_z)\n"
   ]
  },
  {
   "cell_type": "markdown",
   "metadata": {},
   "source": [
    "Then shift z values "
   ]
  },
  {
   "cell_type": "code",
   "execution_count": 18,
   "metadata": {},
   "outputs": [],
   "source": [
    "def shift_z(filename, shift_amount):\n",
    "    output_filename = \"shifted_new.xyz\"\n",
    "    with open(filename, 'r') as f:\n",
    "        with open(output_filename, 'w') as output_file:\n",
    "            for i, line in enumerate(f):\n",
    "                if i < 2:\n",
    "                    output_file.write(line)\n",
    "                    continue\n",
    "                try:\n",
    "                    parts = line.split()\n",
    "                    # Extract x, y, and z values\n",
    "                    x, y, z = float(parts[1]), float(parts[2]), float(parts[3])\n",
    "                    # Shift the z value\n",
    "                    z += shift_amount\n",
    "                    # Write the shifted coordinates to the output file\n",
    "                    output_file.write(f\"{parts[0]} {x} {y} {z}\\n\")\n",
    "                except (IndexError, ValueError):\n",
    "                    # If any conversion fails, write the line as is\n",
    "                    output_file.write(line)\n",
    "\n",
    "# Example usage:\n",
    "filename = \"output_file.xyz\"\n",
    "shift_amount = 45.395324269723\n",
    " # Adjust this value as needed\n",
    "shift_z(filename, shift_amount)\n"
   ]
  },
  {
   "cell_type": "code",
   "execution_count": null,
   "metadata": {},
   "outputs": [],
   "source": []
  }
 ],
 "metadata": {
  "kernelspec": {
   "display_name": "Python 3",
   "language": "python",
   "name": "python3"
  },
  "language_info": {
   "codemirror_mode": {
    "name": "ipython",
    "version": 3
   },
   "file_extension": ".py",
   "mimetype": "text/x-python",
   "name": "python",
   "nbconvert_exporter": "python",
   "pygments_lexer": "ipython3",
   "version": "3.9.2"
  }
 },
 "nbformat": 4,
 "nbformat_minor": 2
}
